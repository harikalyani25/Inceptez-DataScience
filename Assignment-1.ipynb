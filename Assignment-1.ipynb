{
 "cells": [
  {
   "cell_type": "markdown",
   "metadata": {},
   "source": [
    "### The questions for the exercises are given above the cells and the expected output is given below the cell. Please type the code inserting a new cell below the question because if you run the expected output cell the output would vanish! Happy learning! "
   ]
  },
  {
   "cell_type": "markdown",
   "metadata": {},
   "source": [
    "## Exercise Question 1: Given an input list removes the element at index 4 and add it to the 2nd position and also, at the end of the list\n",
    "\n",
    "For example: List = [54, 44, 27, 79, 91, 41]"
   ]
  },
  {
   "cell_type": "code",
   "execution_count": 23,
   "metadata": {},
   "outputs": [
    {
     "name": "stdout",
     "output_type": "stream",
     "text": [
      "[34, 54, 11, 67, 89, 43, 94, 11]\n"
     ]
    }
   ],
   "source": [
    "lst = [34, 54, 67, 89, 11, 43, 94]\n",
    "x=lst.pop(4)\n",
    "lst.insert(2,x)\n",
    "lst.append(x)\n",
    "print(lst)\n"
   ]
  },
  {
   "cell_type": "markdown",
   "metadata": {},
   "source": [
    "## Exercise Question 2: Given a two list of equal size create a list of unique elements from both the lists into a seperate list"
   ]
  },
  {
   "cell_type": "code",
   "execution_count": 33,
   "metadata": {
    "scrolled": true
   },
   "outputs": [
    {
     "name": "stdout",
     "output_type": "stream",
     "text": [
      "[2, 3, 4, 5, 6, 7, 8, 4, 9, 16, 25, 36, 49, 64]\n",
      "[64, 2, 3, 4, 5, 6, 7, 8, 9, 36, 16, 49, 25]\n"
     ]
    }
   ],
   "source": [
    "lst1=[2, 3, 4, 5, 6, 7, 8]\n",
    "lst2=[4, 9, 16, 25, 36, 49, 64]\n",
    "lst1.extend(lst2)\n",
    "lst3=list(set(lst1))\n",
    "print(lst1)\n",
    "print(lst3)"
   ]
  },
  {
   "cell_type": "markdown",
   "metadata": {},
   "source": [
    "## Exercise Question 3: Remove duplicate from a list and create a tuple and find the minimum and maximum number (Hint: Try Functions Min() and Max() ) "
   ]
  },
  {
   "cell_type": "code",
   "execution_count": 47,
   "metadata": {},
   "outputs": [
    {
     "name": "stdout",
     "output_type": "stream",
     "text": [
      "Original list: [87, 52, 44, 53, 54, 87, 52, 53]\n",
      "unique list: [44, 52, 53, 54, 87]\n",
      "tuple: (44, 52, 53, 54, 87)\n",
      "Minimum number is: 44\n",
      "Maximum number is: 87\n"
     ]
    }
   ],
   "source": [
    "lst=[87, 52, 44, 53, 54, 87, 52, 53]\n",
    "print('Original list:',lst)\n",
    "lst2=list(set(lst))\n",
    "print('unique list:',lst2)\n",
    "print('tuple:',tuple(lst2))\n",
    "print('Minimum number is:',min(lst2))    \n",
    "print('Maximum number is:',max(lst2))"
   ]
  },
  {
   "cell_type": "markdown",
   "metadata": {},
   "source": [
    "## Exercise Question 4: Display the each word in the string Count the number of words in a string and display it (Including the white spaces) "
   ]
  },
  {
   "cell_type": "code",
   "execution_count": 39,
   "metadata": {},
   "outputs": [
    {
     "name": "stdout",
     "output_type": "stream",
     "text": [
      "w h a t ' s   u p ?\n",
      "what's up?\n"
     ]
    }
   ],
   "source": [
    "#Printing each words seperately \n",
    "a = \"what's up?\"\n",
    "print(*a)\n",
    "print(a)"
   ]
  },
  {
   "cell_type": "code",
   "execution_count": 45,
   "metadata": {},
   "outputs": [
    {
     "name": "stdout",
     "output_type": "stream",
     "text": [
      "The sample string: Welcome to Python\n",
      "Printing each words seperately: W e l c o m e   t o   P y t h o n\n",
      "The Length of the string: 17\n"
     ]
    }
   ],
   "source": [
    "str='Welcome to Python'\n",
    "print('The sample string:',str)\n",
    "print('Printing each words seperately:',*str)\n",
    "print('The Length of the string:',len(str))"
   ]
  },
  {
   "cell_type": "markdown",
   "metadata": {},
   "source": [
    "##  Exercise Question 5: Write a Python program to access dictionary keys element by index. i.e. Use indexing methods to print the first key"
   ]
  },
  {
   "cell_type": "code",
   "execution_count": 1,
   "metadata": {},
   "outputs": [
    {
     "name": "stdout",
     "output_type": "stream",
     "text": [
      "The key element accesed by index: 80\n",
      "dict_keys(['physics', 'math', 'chemistry'])\n",
      "dict_items([('physics', 80), ('math', 90), ('chemistry', 86)])\n"
     ]
    }
   ],
   "source": [
    "dict={'physics': 80, 'math': 90, 'chemistry': 86}\n",
    "print('The key element accesed by index:',dict['physics'])\n",
    "print(dict.keys())\n",
    "print(dict.items())"
   ]
  },
  {
   "cell_type": "code",
   "execution_count": null,
   "metadata": {},
   "outputs": [],
   "source": []
  }
 ],
 "metadata": {
  "kernelspec": {
   "display_name": "Python 3",
   "language": "python",
   "name": "python3"
  },
  "language_info": {
   "codemirror_mode": {
    "name": "ipython",
    "version": 3
   },
   "file_extension": ".py",
   "mimetype": "text/x-python",
   "name": "python",
   "nbconvert_exporter": "python",
   "pygments_lexer": "ipython3",
   "version": "3.8.5"
  }
 },
 "nbformat": 4,
 "nbformat_minor": 4
}
